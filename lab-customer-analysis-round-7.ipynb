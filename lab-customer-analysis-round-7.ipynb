{
 "cells": [
  {
   "cell_type": "code",
   "execution_count": 1,
   "id": "23b12f95",
   "metadata": {},
   "outputs": [],
   "source": [
    "import pandas as pd\n",
    "import numpy as np\n",
    "import matplotlib.pyplot as plt\n",
    "import seaborn as sns\n",
    "from sklearn import linear_model\n",
    "from sklearn.metrics import mean_squared_error, r2_score\n",
    "from sklearn.preprocessing import MinMaxScaler\n",
    "from sklearn.preprocessing import OneHotEncoder\n",
    "from sklearn.preprocessing import LabelEncoder\n",
    "from sklearn.model_selection import train_test_split\n",
    "from sklearn.metrics import mean_absolute_error\n",
    "from sklearn.preprocessing import StandardScaler"
   ]
  },
  {
   "cell_type": "code",
   "execution_count": 2,
   "id": "3ffbc4bf",
   "metadata": {},
   "outputs": [],
   "source": [
    "customer = pd.read_csv('marketing_customer_analysis.csv')"
   ]
  },
  {
   "cell_type": "markdown",
   "id": "955677d9",
   "metadata": {},
   "source": [
    "# Lab | Customer Analysis Round 4"
   ]
  },
  {
   "cell_type": "markdown",
   "id": "6c5a0714",
   "metadata": {},
   "source": [
    "##### 1. Check the data types of the columns. Get the numeric data into dataframe called numerical and categorical columns in a dataframe called categoricals. (You can use np.number and np.object to select the numerical data types and categorical data types respectively)"
   ]
  },
  {
   "cell_type": "code",
   "execution_count": 3,
   "id": "7b0701bb",
   "metadata": {},
   "outputs": [],
   "source": [
    "# customer.dtypes"
   ]
  },
  {
   "cell_type": "code",
   "execution_count": 4,
   "id": "14ab0554",
   "metadata": {},
   "outputs": [],
   "source": [
    "# cus_num = customer.select_dtypes(include = np.number)\n"
   ]
  },
  {
   "cell_type": "code",
   "execution_count": 5,
   "id": "76c22e9a",
   "metadata": {},
   "outputs": [],
   "source": [
    "# cus_cat = customer.select_dtypes(include = np.object)\n"
   ]
  },
  {
   "cell_type": "markdown",
   "id": "c542cfec",
   "metadata": {},
   "source": [
    "##### 2. Now we will try to check the normality of the numerical variables visually\n",
    "##### 2. 1 Use seaborn library to construct distribution plots for the numerical variables"
   ]
  },
  {
   "cell_type": "code",
   "execution_count": 6,
   "id": "514b603d",
   "metadata": {
    "scrolled": true
   },
   "outputs": [],
   "source": [
    "# for col in cus_num:\n",
    "#     sns.displot(cus_num[col])"
   ]
  },
  {
   "cell_type": "markdown",
   "id": "515a2abb",
   "metadata": {},
   "source": [
    "##### 2.2 Use Matplotlib to construct histograms"
   ]
  },
  {
   "cell_type": "code",
   "execution_count": 7,
   "id": "8f8e8497",
   "metadata": {},
   "outputs": [],
   "source": [
    "# for col in cus_num:\n",
    "    \n",
    "#     plt.figure(figsize=(8, 5))  \n",
    "    \n",
    "#     plt.hist(cus_num[col], bins=20)\n",
    "    \n",
    "#     plt.title(f'Histogram of {col}')\n",
    "#     plt.xlabel(col)\n",
    "#     plt.ylabel('Frequency')\n",
    "#     plt.show()"
   ]
  },
  {
   "cell_type": "markdown",
   "id": "118e56ed",
   "metadata": {},
   "source": [
    "##### 2.3 Do the distributions for different numerical variables look like a normal distribution"
   ]
  },
  {
   "cell_type": "code",
   "execution_count": 8,
   "id": "21751472",
   "metadata": {
    "scrolled": true
   },
   "outputs": [],
   "source": [
    "# def log_transfom_clean(x):\n",
    "#     x = np.log10(x)\n",
    "#     if np.isfinite(x):\n",
    "#         return x\n",
    "#     else:\n",
    "#         return 0"
   ]
  },
  {
   "cell_type": "code",
   "execution_count": 9,
   "id": "efd61fe3",
   "metadata": {},
   "outputs": [],
   "source": [
    "# cus_num = customer.select_dtypes(include = np.number)\n",
    "\n",
    "# for col in cus_num:\n",
    "#     plt.figure(figsize=(7, 4))\n",
    "#     plt.hist(cus_num[col].apply(log_transfom_clean), bins=30)   \n",
    "#     plt.title(f'Histogram of {col}')\n",
    "#     plt.xlabel(col)\n",
    "#     plt.ylabel('Frequency')\n",
    "#     plt.show()"
   ]
  },
  {
   "cell_type": "code",
   "execution_count": 10,
   "id": "6c636bcb",
   "metadata": {},
   "outputs": [],
   "source": [
    "# def log_transform_clean2(x):\n",
    "#     x = np.log10(x)\n",
    "#     if np.isfinite(x):\n",
    "#         return x\n",
    "#     else:\n",
    "#         return np.NAN"
   ]
  },
  {
   "cell_type": "code",
   "execution_count": 11,
   "id": "98c98d2a",
   "metadata": {},
   "outputs": [],
   "source": [
    "# cus_num = customer.select_dtypes(include = np.number)\n",
    "\n",
    "# for col in cus_num:\n",
    "    \n",
    "#     cus_num[col] = list(map(log_transform_clean2, cus_num[col]))\n",
    "#     cus_num[col] = cus_num[col].fillna(np.mean(cus_num[col]))\n",
    "    \n",
    "#     plt.figure(figsize=(7, 4))\n",
    "#     plt.hist(cus_num[col].apply(log_transfom_clean), bins=30)   \n",
    "#     plt.title(f'Histogram of {col}')\n",
    "#     plt.xlabel(col)\n",
    "#     plt.ylabel('Frequency')\n",
    "#     plt.show()\n",
    "\n",
    "# cus_num"
   ]
  },
  {
   "cell_type": "markdown",
   "id": "0a097fec",
   "metadata": {},
   "source": [
    "I don´t think they could look as normal distributions using the log function. I could cut the values of the total claim amount at 600 but I wouldn´t do that because it provides lot of information. Here is the demonstration:"
   ]
  },
  {
   "cell_type": "code",
   "execution_count": 12,
   "id": "6e682c4e",
   "metadata": {},
   "outputs": [],
   "source": [
    "# cus_num = customer.select_dtypes(include = np.number)\n",
    "\n",
    "# sns.boxplot(cus_num['Total Claim Amount'])\n",
    "# plt.show()"
   ]
  },
  {
   "cell_type": "code",
   "execution_count": 13,
   "id": "24da8c05",
   "metadata": {},
   "outputs": [],
   "source": [
    "# iqr = np.percentile(cus_num['Total Claim Amount'],75) - np.percentile(cus_num['Total Claim Amount'],25)\n",
    "\n",
    "# upper_limit = np.percentile(cus_num['Total Claim Amount'],75) + 1.5*iqr\n",
    "# lower_limit = np.percentile(cus_num['Total Claim Amount'],25) - 1.5*iqr\n",
    "\n",
    "# print(upper_limit)\n",
    "# print(lower_limit)"
   ]
  },
  {
   "cell_type": "code",
   "execution_count": 14,
   "id": "9c833dd9",
   "metadata": {},
   "outputs": [],
   "source": [
    "# cus_claim = cus_num[(cus_num['Total Claim Amount']>lower_limit)&(cus_num['Total Claim Amount']<2500)]\n",
    "# sns.displot(cus_claim['Total Claim Amount'])\n",
    "# plt.show()"
   ]
  },
  {
   "cell_type": "code",
   "execution_count": 15,
   "id": "e5fec719",
   "metadata": {},
   "outputs": [],
   "source": [
    "# cus_claim['Total Claim Amount'] = list(map(log_transform_clean2, cus_claim['Total Claim Amount']))\n",
    "# cus_claim['Total Claim Amount'] = cus_claim['Total Claim Amount'].fillna(np.mean(cus_claim['Total Claim Amount']))\n",
    "# sns.displot(cus_claim['Total Claim Amount'])\n",
    "# plt.show()"
   ]
  },
  {
   "cell_type": "markdown",
   "id": "7acc68e8",
   "metadata": {},
   "source": [
    "##### 3. For the numerical variables, check the multicollinearity between the features. Please note that we will use the column total_claim_amount later as the target variable.\n"
   ]
  },
  {
   "cell_type": "code",
   "execution_count": 16,
   "id": "6132c663",
   "metadata": {},
   "outputs": [],
   "source": [
    "# Reset data frame\n",
    "\n",
    "# cus_num = customer.select_dtypes(include = np.number)"
   ]
  },
  {
   "cell_type": "code",
   "execution_count": 17,
   "id": "a5d2c0cd",
   "metadata": {},
   "outputs": [],
   "source": [
    "# Multicollinearity is a statistical phenomenon that occurs when two or more independent variables in a regression model are highly correlated with each other.\n",
    "\n",
    "# We can create a matrix\n",
    "# correlation_matrix = cus_num.corr()\n",
    "# correlation_matrix\n"
   ]
  },
  {
   "cell_type": "code",
   "execution_count": 18,
   "id": "f12d6564",
   "metadata": {},
   "outputs": [],
   "source": [
    "# Or a heatmap\n",
    "\n",
    "# plt.figure(figsize=(8, 6))\n",
    "\n",
    "# sns.heatmap(correlation_matrix, annot=True)\n",
    "# plt.title('Correlation Matrix Heatmap')\n",
    "# plt.show()"
   ]
  },
  {
   "cell_type": "markdown",
   "id": "d8e09ab3",
   "metadata": {},
   "source": [
    "The values are not very correlated in general.\n",
    "\n",
    "Looking at the Total Claim Amount, we can say that is quite correlated to the Monthly Premium Auto. The Customer Lifetime Value provides some information with a coefficient of correlation of 0.23.\n",
    "\n",
    "Also, the income coefficient tells us about a negative correlation, which means that the Total Claim Amount gets higher when the Income amount goes lower."
   ]
  },
  {
   "cell_type": "markdown",
   "id": "b46cab83",
   "metadata": {},
   "source": [
    "##### 4. Drop one of the two features that show a high correlation between them (greater than 0.9). Write code for both the correlation matrix and for seaborn heatmap. If there is no pair of features that have a high correlation, then do not drop any features"
   ]
  },
  {
   "cell_type": "markdown",
   "id": "7eed3283",
   "metadata": {},
   "source": [
    "I´m going to drop the values with very little correlation."
   ]
  },
  {
   "cell_type": "code",
   "execution_count": 19,
   "id": "b224d300",
   "metadata": {},
   "outputs": [],
   "source": [
    "# cus_corr = cus_num.drop(['Months Since Last Claim', 'Months Since Policy Inception', 'Number of Open Complaints', 'Number of Policies'], axis=1)\n",
    "# cus_corr"
   ]
  },
  {
   "cell_type": "code",
   "execution_count": 20,
   "id": "5c70d26f",
   "metadata": {},
   "outputs": [],
   "source": [
    "# correlation_matrix2 = cus_corr.corr()\n",
    "# correlation_matrix2"
   ]
  },
  {
   "cell_type": "code",
   "execution_count": 21,
   "id": "22813704",
   "metadata": {},
   "outputs": [],
   "source": [
    "# plt.figure(figsize=(4, 3))\n",
    "# sns.heatmap(correlation_matrix2, annot=True)\n",
    "# plt.title('Correlation Matrix Heatmap 2')\n",
    "# plt.show()"
   ]
  },
  {
   "cell_type": "markdown",
   "id": "d946a4f8",
   "metadata": {},
   "source": [
    "# Lab | Customer Analysis Round 5"
   ]
  },
  {
   "cell_type": "markdown",
   "id": "b20b89b2",
   "metadata": {},
   "source": [
    "### Processing Data\n",
    "\n",
    "##### 1. Further processing"
   ]
  },
  {
   "cell_type": "markdown",
   "id": "309d6bfd",
   "metadata": {},
   "source": [
    "I will compare the target value against the most correlated one, the Monthly Premium Auto."
   ]
  },
  {
   "cell_type": "code",
   "execution_count": 22,
   "id": "48a222f1",
   "metadata": {},
   "outputs": [],
   "source": [
    "# cus_num = customer.select_dtypes(include = np.number)\n",
    "\n",
    "# y = cus_num['Total Claim Amount']\n",
    "# X = cus_num[['Monthly Premium Auto']]\n",
    "\n",
    "# lm = linear_model.LinearRegression()\n",
    "# lm.fit(X,y)\n",
    "\n",
    "# regression_line = lm.intercept_ + lm.coef_[0]*cus_num['Monthly Premium Auto']\n",
    "\n",
    "# plt.plot(cus_num['Monthly Premium Auto'], regression_line, c = 'orange')\n",
    "# sns.scatterplot(x='Monthly Premium Auto',y='Total Claim Amount',data=cus_num)\n",
    "# plt.show()"
   ]
  },
  {
   "cell_type": "markdown",
   "id": "97949697",
   "metadata": {},
   "source": [
    "I´ll check the R2-score"
   ]
  },
  {
   "cell_type": "code",
   "execution_count": 23,
   "id": "ed30ef4f",
   "metadata": {},
   "outputs": [],
   "source": [
    "# print(\"R2-score is \", lm.score(X,y))\n",
    "# print(\"mean squared error (MSE) is \", mean_squared_error(lm.predict(X),y))"
   ]
  },
  {
   "cell_type": "markdown",
   "id": "53ffc34d",
   "metadata": {},
   "source": [
    "The R2-socre indicates the model does not explain very well the variance in the target variable.\n",
    "Also, we can see by the MSE that the model's predictions are not very close to the true values."
   ]
  },
  {
   "cell_type": "markdown",
   "id": "6a6ba56d",
   "metadata": {},
   "source": [
    "##### 2. X-y split."
   ]
  },
  {
   "cell_type": "markdown",
   "id": "e83e1dd1",
   "metadata": {},
   "source": [
    "Already done above"
   ]
  },
  {
   "cell_type": "markdown",
   "id": "4d9b04bc",
   "metadata": {},
   "source": [
    "##### 3. Normalize (numerical)."
   ]
  },
  {
   "cell_type": "code",
   "execution_count": 24,
   "id": "41e9d16c",
   "metadata": {},
   "outputs": [],
   "source": [
    "y = customer['Total Claim Amount']\n",
    "X = customer.drop(['Total Claim Amount'], axis=1)\n",
    "\n",
    "cus_num = X.select_dtypes(include = np.number)\n",
    "cus_cat = X.select_dtypes(include = object)\n",
    "\n",
    "# cus_tra = MinMaxScaler().fit(cus_num)\n",
    "# cus_nor = cus_tra.transform(cus_num)\n",
    "\n",
    "# cus_nor = pd.DataFrame(cus_nor, columns = cus_num.columns)\n",
    "\n",
    "# cus_nor.head()"
   ]
  },
  {
   "cell_type": "markdown",
   "id": "c1ed183a",
   "metadata": {},
   "source": [
    "# Lab | Customer Analysis Round 6"
   ]
  },
  {
   "cell_type": "markdown",
   "id": "e467c1e1",
   "metadata": {},
   "source": [
    "### Processing Data - Deciding the Method"
   ]
  },
  {
   "cell_type": "code",
   "execution_count": 25,
   "id": "b0ac2abd",
   "metadata": {},
   "outputs": [],
   "source": [
    "# cus_cat.head()"
   ]
  },
  {
   "cell_type": "markdown",
   "id": "41e1792b",
   "metadata": {},
   "source": [
    "### Processing Data - OneHot Encoding"
   ]
  },
  {
   "cell_type": "code",
   "execution_count": 26,
   "id": "1c0cdff1",
   "metadata": {},
   "outputs": [
    {
     "data": {
      "text/html": [
       "<div>\n",
       "<style scoped>\n",
       "    .dataframe tbody tr th:only-of-type {\n",
       "        vertical-align: middle;\n",
       "    }\n",
       "\n",
       "    .dataframe tbody tr th {\n",
       "        vertical-align: top;\n",
       "    }\n",
       "\n",
       "    .dataframe thead th {\n",
       "        text-align: right;\n",
       "    }\n",
       "</style>\n",
       "<table border=\"1\" class=\"dataframe\">\n",
       "  <thead>\n",
       "    <tr style=\"text-align: right;\">\n",
       "      <th></th>\n",
       "      <th>State_California</th>\n",
       "      <th>State_Nevada</th>\n",
       "      <th>State_Oregon</th>\n",
       "      <th>State_Washington</th>\n",
       "      <th>Response_Yes</th>\n",
       "      <th>Coverage_Extended</th>\n",
       "      <th>Coverage_Premium</th>\n",
       "      <th>Education_College</th>\n",
       "      <th>Education_Doctor</th>\n",
       "      <th>Education_High School or Below</th>\n",
       "      <th>...</th>\n",
       "      <th>Sales Channel_Branch</th>\n",
       "      <th>Sales Channel_Call Center</th>\n",
       "      <th>Sales Channel_Web</th>\n",
       "      <th>Vehicle Class_Luxury Car</th>\n",
       "      <th>Vehicle Class_Luxury SUV</th>\n",
       "      <th>Vehicle Class_SUV</th>\n",
       "      <th>Vehicle Class_Sports Car</th>\n",
       "      <th>Vehicle Class_Two-Door Car</th>\n",
       "      <th>Vehicle Size_Medsize</th>\n",
       "      <th>Vehicle Size_Small</th>\n",
       "    </tr>\n",
       "  </thead>\n",
       "  <tbody>\n",
       "    <tr>\n",
       "      <th>0</th>\n",
       "      <td>0.0</td>\n",
       "      <td>0.0</td>\n",
       "      <td>0.0</td>\n",
       "      <td>1.0</td>\n",
       "      <td>0.0</td>\n",
       "      <td>0.0</td>\n",
       "      <td>0.0</td>\n",
       "      <td>0.0</td>\n",
       "      <td>0.0</td>\n",
       "      <td>0.0</td>\n",
       "      <td>...</td>\n",
       "      <td>0.0</td>\n",
       "      <td>0.0</td>\n",
       "      <td>0.0</td>\n",
       "      <td>0.0</td>\n",
       "      <td>0.0</td>\n",
       "      <td>0.0</td>\n",
       "      <td>0.0</td>\n",
       "      <td>1.0</td>\n",
       "      <td>1.0</td>\n",
       "      <td>0.0</td>\n",
       "    </tr>\n",
       "    <tr>\n",
       "      <th>1</th>\n",
       "      <td>0.0</td>\n",
       "      <td>0.0</td>\n",
       "      <td>0.0</td>\n",
       "      <td>0.0</td>\n",
       "      <td>0.0</td>\n",
       "      <td>1.0</td>\n",
       "      <td>0.0</td>\n",
       "      <td>0.0</td>\n",
       "      <td>0.0</td>\n",
       "      <td>0.0</td>\n",
       "      <td>...</td>\n",
       "      <td>0.0</td>\n",
       "      <td>0.0</td>\n",
       "      <td>0.0</td>\n",
       "      <td>0.0</td>\n",
       "      <td>0.0</td>\n",
       "      <td>0.0</td>\n",
       "      <td>0.0</td>\n",
       "      <td>0.0</td>\n",
       "      <td>1.0</td>\n",
       "      <td>0.0</td>\n",
       "    </tr>\n",
       "    <tr>\n",
       "      <th>2</th>\n",
       "      <td>0.0</td>\n",
       "      <td>1.0</td>\n",
       "      <td>0.0</td>\n",
       "      <td>0.0</td>\n",
       "      <td>0.0</td>\n",
       "      <td>0.0</td>\n",
       "      <td>1.0</td>\n",
       "      <td>0.0</td>\n",
       "      <td>0.0</td>\n",
       "      <td>0.0</td>\n",
       "      <td>...</td>\n",
       "      <td>0.0</td>\n",
       "      <td>0.0</td>\n",
       "      <td>0.0</td>\n",
       "      <td>0.0</td>\n",
       "      <td>0.0</td>\n",
       "      <td>0.0</td>\n",
       "      <td>0.0</td>\n",
       "      <td>1.0</td>\n",
       "      <td>1.0</td>\n",
       "      <td>0.0</td>\n",
       "    </tr>\n",
       "    <tr>\n",
       "      <th>3</th>\n",
       "      <td>1.0</td>\n",
       "      <td>0.0</td>\n",
       "      <td>0.0</td>\n",
       "      <td>0.0</td>\n",
       "      <td>0.0</td>\n",
       "      <td>0.0</td>\n",
       "      <td>0.0</td>\n",
       "      <td>0.0</td>\n",
       "      <td>0.0</td>\n",
       "      <td>0.0</td>\n",
       "      <td>...</td>\n",
       "      <td>0.0</td>\n",
       "      <td>1.0</td>\n",
       "      <td>0.0</td>\n",
       "      <td>0.0</td>\n",
       "      <td>0.0</td>\n",
       "      <td>1.0</td>\n",
       "      <td>0.0</td>\n",
       "      <td>0.0</td>\n",
       "      <td>1.0</td>\n",
       "      <td>0.0</td>\n",
       "    </tr>\n",
       "    <tr>\n",
       "      <th>4</th>\n",
       "      <td>0.0</td>\n",
       "      <td>0.0</td>\n",
       "      <td>0.0</td>\n",
       "      <td>1.0</td>\n",
       "      <td>0.0</td>\n",
       "      <td>0.0</td>\n",
       "      <td>0.0</td>\n",
       "      <td>0.0</td>\n",
       "      <td>0.0</td>\n",
       "      <td>0.0</td>\n",
       "      <td>...</td>\n",
       "      <td>0.0</td>\n",
       "      <td>0.0</td>\n",
       "      <td>0.0</td>\n",
       "      <td>0.0</td>\n",
       "      <td>0.0</td>\n",
       "      <td>0.0</td>\n",
       "      <td>0.0</td>\n",
       "      <td>0.0</td>\n",
       "      <td>1.0</td>\n",
       "      <td>0.0</td>\n",
       "    </tr>\n",
       "  </tbody>\n",
       "</table>\n",
       "<p>5 rows × 43 columns</p>\n",
       "</div>"
      ],
      "text/plain": [
       "   State_California  State_Nevada  State_Oregon  State_Washington  \\\n",
       "0               0.0           0.0           0.0               1.0   \n",
       "1               0.0           0.0           0.0               0.0   \n",
       "2               0.0           1.0           0.0               0.0   \n",
       "3               1.0           0.0           0.0               0.0   \n",
       "4               0.0           0.0           0.0               1.0   \n",
       "\n",
       "   Response_Yes  Coverage_Extended  Coverage_Premium  Education_College  \\\n",
       "0           0.0                0.0               0.0                0.0   \n",
       "1           0.0                1.0               0.0                0.0   \n",
       "2           0.0                0.0               1.0                0.0   \n",
       "3           0.0                0.0               0.0                0.0   \n",
       "4           0.0                0.0               0.0                0.0   \n",
       "\n",
       "   Education_Doctor  Education_High School or Below  ...  \\\n",
       "0               0.0                             0.0  ...   \n",
       "1               0.0                             0.0  ...   \n",
       "2               0.0                             0.0  ...   \n",
       "3               0.0                             0.0  ...   \n",
       "4               0.0                             0.0  ...   \n",
       "\n",
       "   Sales Channel_Branch  Sales Channel_Call Center  Sales Channel_Web  \\\n",
       "0                   0.0                        0.0                0.0   \n",
       "1                   0.0                        0.0                0.0   \n",
       "2                   0.0                        0.0                0.0   \n",
       "3                   0.0                        1.0                0.0   \n",
       "4                   0.0                        0.0                0.0   \n",
       "\n",
       "   Vehicle Class_Luxury Car  Vehicle Class_Luxury SUV  Vehicle Class_SUV  \\\n",
       "0                       0.0                       0.0                0.0   \n",
       "1                       0.0                       0.0                0.0   \n",
       "2                       0.0                       0.0                0.0   \n",
       "3                       0.0                       0.0                1.0   \n",
       "4                       0.0                       0.0                0.0   \n",
       "\n",
       "   Vehicle Class_Sports Car  Vehicle Class_Two-Door Car  Vehicle Size_Medsize  \\\n",
       "0                       0.0                         1.0                   1.0   \n",
       "1                       0.0                         0.0                   1.0   \n",
       "2                       0.0                         1.0                   1.0   \n",
       "3                       0.0                         0.0                   1.0   \n",
       "4                       0.0                         0.0                   1.0   \n",
       "\n",
       "   Vehicle Size_Small  \n",
       "0                 0.0  \n",
       "1                 0.0  \n",
       "2                 0.0  \n",
       "3                 0.0  \n",
       "4                 0.0  \n",
       "\n",
       "[5 rows x 43 columns]"
      ]
     },
     "execution_count": 26,
     "metadata": {},
     "output_type": "execute_result"
    }
   ],
   "source": [
    "cus_one = cus_cat.drop(['Customer', 'Effective To Date'], axis=1)\n",
    "\n",
    "cus_encoder = OneHotEncoder(drop='first').fit(cus_one)\n",
    "cus_encoded = cus_encoder.transform(cus_one).toarray()\n",
    "\n",
    "cus_encoded = pd.DataFrame(cus_encoded, columns=cus_encoder.get_feature_names_out())\n",
    "\n",
    "cus_encoded.head()"
   ]
  },
  {
   "cell_type": "markdown",
   "id": "58fa865a",
   "metadata": {},
   "source": [
    "### Processing Data - Columns excluded in the model\n",
    "\n",
    "I´m going to exclude the Customer identification and the effective date as I don´t consider them valuable information for the model."
   ]
  },
  {
   "cell_type": "markdown",
   "id": "d3db9725",
   "metadata": {},
   "source": [
    "### Processing Data - Concatenate"
   ]
  },
  {
   "cell_type": "code",
   "execution_count": 27,
   "id": "531b9482",
   "metadata": {},
   "outputs": [],
   "source": [
    "# customer2 = pd.concat([cus_nor, cus_encoded], axis=1)\n",
    "# customer2"
   ]
  },
  {
   "cell_type": "markdown",
   "id": "2bb25eec",
   "metadata": {},
   "source": [
    "### Linear Regression - Train-test split"
   ]
  },
  {
   "cell_type": "code",
   "execution_count": 28,
   "id": "1c88b6de",
   "metadata": {},
   "outputs": [],
   "source": [
    "# y = customer['Total Claim Amount']\n",
    "# X = customer2\n",
    "# X_train, X_test, y_train, y_test = train_test_split(X, y, test_size=0.1)"
   ]
  },
  {
   "cell_type": "markdown",
   "id": "bf33c518",
   "metadata": {},
   "source": [
    "### Linear Regression - Apply linear regression"
   ]
  },
  {
   "cell_type": "code",
   "execution_count": 29,
   "id": "6470474c",
   "metadata": {},
   "outputs": [],
   "source": [
    "# lm = linear_model.LinearRegression()\n",
    "# lm.fit(X_train,y_train)\n",
    "# predictions = lm.predict(X_train)\n",
    "# r2_score(y_train, predictions)"
   ]
  },
  {
   "cell_type": "markdown",
   "id": "0081ac3f",
   "metadata": {},
   "source": [
    "### Model Validation - R2"
   ]
  },
  {
   "cell_type": "code",
   "execution_count": 30,
   "id": "10eb065e",
   "metadata": {},
   "outputs": [],
   "source": [
    "# predictions_test = lm.predict(X_test)\n",
    "# r2_score(y_test, predictions_test)"
   ]
  },
  {
   "cell_type": "markdown",
   "id": "89b10e06",
   "metadata": {},
   "source": [
    "### Model Validation - MSE\n"
   ]
  },
  {
   "cell_type": "code",
   "execution_count": 31,
   "id": "4c830718",
   "metadata": {},
   "outputs": [],
   "source": [
    "# predictions_test = lm.predict(X_test)\n",
    "# mse=mean_squared_error(y_test,predictions_test)\n",
    "# mse"
   ]
  },
  {
   "cell_type": "markdown",
   "id": "5c040155",
   "metadata": {},
   "source": [
    "### Model Validation - RMSE"
   ]
  },
  {
   "cell_type": "code",
   "execution_count": 32,
   "id": "bf1d94dd",
   "metadata": {},
   "outputs": [],
   "source": [
    "# rmse = np.sqrt(mean_squared_error(y_test,predictions_test))\n",
    "# rmse"
   ]
  },
  {
   "cell_type": "markdown",
   "id": "193246f7",
   "metadata": {},
   "source": [
    "### Model Validation - MAE"
   ]
  },
  {
   "cell_type": "code",
   "execution_count": 33,
   "id": "eb5b9ad7",
   "metadata": {},
   "outputs": [],
   "source": [
    "# mae = mean_absolute_error(y_test,predictions_test)\n",
    "# mae"
   ]
  },
  {
   "cell_type": "markdown",
   "id": "2423f478",
   "metadata": {},
   "source": [
    "# Lab | Customer Analysis Round 7\n",
    "\n",
    "I'm going to play with different strategies to see which R2 is higher."
   ]
  },
  {
   "cell_type": "markdown",
   "id": "e71f4b5e",
   "metadata": {},
   "source": [
    "### 1. StandardScaler instead of MinMax"
   ]
  },
  {
   "cell_type": "code",
   "execution_count": 34,
   "id": "0421b198",
   "metadata": {},
   "outputs": [
    {
     "data": {
      "text/html": [
       "<div>\n",
       "<style scoped>\n",
       "    .dataframe tbody tr th:only-of-type {\n",
       "        vertical-align: middle;\n",
       "    }\n",
       "\n",
       "    .dataframe tbody tr th {\n",
       "        vertical-align: top;\n",
       "    }\n",
       "\n",
       "    .dataframe thead th {\n",
       "        text-align: right;\n",
       "    }\n",
       "</style>\n",
       "<table border=\"1\" class=\"dataframe\">\n",
       "  <thead>\n",
       "    <tr style=\"text-align: right;\">\n",
       "      <th></th>\n",
       "      <th>Customer Lifetime Value</th>\n",
       "      <th>Income</th>\n",
       "      <th>Monthly Premium Auto</th>\n",
       "      <th>Months Since Last Claim</th>\n",
       "      <th>Months Since Policy Inception</th>\n",
       "      <th>Number of Open Complaints</th>\n",
       "      <th>Number of Policies</th>\n",
       "    </tr>\n",
       "  </thead>\n",
       "  <tbody>\n",
       "    <tr>\n",
       "      <th>0</th>\n",
       "      <td>-0.762878</td>\n",
       "      <td>0.612827</td>\n",
       "      <td>-0.703925</td>\n",
       "      <td>1.678099</td>\n",
       "      <td>-1.543287</td>\n",
       "      <td>-0.422250</td>\n",
       "      <td>-0.822648</td>\n",
       "    </tr>\n",
       "    <tr>\n",
       "      <th>1</th>\n",
       "      <td>-0.149245</td>\n",
       "      <td>-1.239617</td>\n",
       "      <td>0.022691</td>\n",
       "      <td>-0.208186</td>\n",
       "      <td>-0.217334</td>\n",
       "      <td>-0.422250</td>\n",
       "      <td>2.106160</td>\n",
       "    </tr>\n",
       "    <tr>\n",
       "      <th>2</th>\n",
       "      <td>0.710636</td>\n",
       "      <td>0.365710</td>\n",
       "      <td>0.429596</td>\n",
       "      <td>0.288205</td>\n",
       "      <td>-0.360680</td>\n",
       "      <td>-0.422250</td>\n",
       "      <td>-0.404247</td>\n",
       "    </tr>\n",
       "    <tr>\n",
       "      <th>3</th>\n",
       "      <td>-0.052263</td>\n",
       "      <td>-1.239617</td>\n",
       "      <td>0.371467</td>\n",
       "      <td>0.288205</td>\n",
       "      <td>0.606907</td>\n",
       "      <td>-0.422250</td>\n",
       "      <td>1.687759</td>\n",
       "    </tr>\n",
       "    <tr>\n",
       "      <th>4</th>\n",
       "      <td>-0.755575</td>\n",
       "      <td>0.203390</td>\n",
       "      <td>-0.587666</td>\n",
       "      <td>-0.307465</td>\n",
       "      <td>-0.145661</td>\n",
       "      <td>-0.422250</td>\n",
       "      <td>-0.822648</td>\n",
       "    </tr>\n",
       "    <tr>\n",
       "      <th>...</th>\n",
       "      <td>...</td>\n",
       "      <td>...</td>\n",
       "      <td>...</td>\n",
       "      <td>...</td>\n",
       "      <td>...</td>\n",
       "      <td>...</td>\n",
       "      <td>...</td>\n",
       "    </tr>\n",
       "    <tr>\n",
       "      <th>9129</th>\n",
       "      <td>2.241590</td>\n",
       "      <td>1.128558</td>\n",
       "      <td>-0.587666</td>\n",
       "      <td>0.288205</td>\n",
       "      <td>1.466984</td>\n",
       "      <td>-0.422250</td>\n",
       "      <td>-0.404247</td>\n",
       "    </tr>\n",
       "    <tr>\n",
       "      <th>9130</th>\n",
       "      <td>-0.714411</td>\n",
       "      <td>-0.528450</td>\n",
       "      <td>-0.413278</td>\n",
       "      <td>-0.108908</td>\n",
       "      <td>-0.719046</td>\n",
       "      <td>-0.422250</td>\n",
       "      <td>-0.822648</td>\n",
       "    </tr>\n",
       "    <tr>\n",
       "      <th>9131</th>\n",
       "      <td>0.023135</td>\n",
       "      <td>-1.239617</td>\n",
       "      <td>-0.238891</td>\n",
       "      <td>-0.605299</td>\n",
       "      <td>-0.396517</td>\n",
       "      <td>2.873245</td>\n",
       "      <td>-0.404247</td>\n",
       "    </tr>\n",
       "    <tr>\n",
       "      <th>9132</th>\n",
       "      <td>-0.069935</td>\n",
       "      <td>-0.517356</td>\n",
       "      <td>0.080820</td>\n",
       "      <td>1.876656</td>\n",
       "      <td>-1.614960</td>\n",
       "      <td>-0.422250</td>\n",
       "      <td>0.014154</td>\n",
       "    </tr>\n",
       "    <tr>\n",
       "      <th>9133</th>\n",
       "      <td>-0.784955</td>\n",
       "      <td>-1.239617</td>\n",
       "      <td>-0.471408</td>\n",
       "      <td>-1.200968</td>\n",
       "      <td>1.502821</td>\n",
       "      <td>-0.422250</td>\n",
       "      <td>-0.822648</td>\n",
       "    </tr>\n",
       "  </tbody>\n",
       "</table>\n",
       "<p>9134 rows × 7 columns</p>\n",
       "</div>"
      ],
      "text/plain": [
       "      Customer Lifetime Value    Income  Monthly Premium Auto  \\\n",
       "0                   -0.762878  0.612827             -0.703925   \n",
       "1                   -0.149245 -1.239617              0.022691   \n",
       "2                    0.710636  0.365710              0.429596   \n",
       "3                   -0.052263 -1.239617              0.371467   \n",
       "4                   -0.755575  0.203390             -0.587666   \n",
       "...                       ...       ...                   ...   \n",
       "9129                 2.241590  1.128558             -0.587666   \n",
       "9130                -0.714411 -0.528450             -0.413278   \n",
       "9131                 0.023135 -1.239617             -0.238891   \n",
       "9132                -0.069935 -0.517356              0.080820   \n",
       "9133                -0.784955 -1.239617             -0.471408   \n",
       "\n",
       "      Months Since Last Claim  Months Since Policy Inception  \\\n",
       "0                    1.678099                      -1.543287   \n",
       "1                   -0.208186                      -0.217334   \n",
       "2                    0.288205                      -0.360680   \n",
       "3                    0.288205                       0.606907   \n",
       "4                   -0.307465                      -0.145661   \n",
       "...                       ...                            ...   \n",
       "9129                 0.288205                       1.466984   \n",
       "9130                -0.108908                      -0.719046   \n",
       "9131                -0.605299                      -0.396517   \n",
       "9132                 1.876656                      -1.614960   \n",
       "9133                -1.200968                       1.502821   \n",
       "\n",
       "      Number of Open Complaints  Number of Policies  \n",
       "0                     -0.422250           -0.822648  \n",
       "1                     -0.422250            2.106160  \n",
       "2                     -0.422250           -0.404247  \n",
       "3                     -0.422250            1.687759  \n",
       "4                     -0.422250           -0.822648  \n",
       "...                         ...                 ...  \n",
       "9129                  -0.422250           -0.404247  \n",
       "9130                  -0.422250           -0.822648  \n",
       "9131                   2.873245           -0.404247  \n",
       "9132                  -0.422250            0.014154  \n",
       "9133                  -0.422250           -0.822648  \n",
       "\n",
       "[9134 rows x 7 columns]"
      ]
     },
     "execution_count": 34,
     "metadata": {},
     "output_type": "execute_result"
    }
   ],
   "source": [
    "# Reset\n",
    "\n",
    "y = customer['Total Claim Amount']\n",
    "X = customer.drop(['Total Claim Amount'], axis=1)\n",
    "\n",
    "cus_num = X.select_dtypes(include = np.number)\n",
    "\n",
    "# StandardScaler\n",
    "\n",
    "cus_tra = StandardScaler().fit(cus_num)\n",
    "cus_std = cus_tra.transform(cus_num)\n",
    "\n",
    "cus_std = pd.DataFrame(cus_std,columns=cus_num.columns)\n",
    "cus_std"
   ]
  },
  {
   "cell_type": "code",
   "execution_count": 35,
   "id": "7b1f89a0",
   "metadata": {},
   "outputs": [
    {
     "data": {
      "text/html": [
       "<div>\n",
       "<style scoped>\n",
       "    .dataframe tbody tr th:only-of-type {\n",
       "        vertical-align: middle;\n",
       "    }\n",
       "\n",
       "    .dataframe tbody tr th {\n",
       "        vertical-align: top;\n",
       "    }\n",
       "\n",
       "    .dataframe thead th {\n",
       "        text-align: right;\n",
       "    }\n",
       "</style>\n",
       "<table border=\"1\" class=\"dataframe\">\n",
       "  <thead>\n",
       "    <tr style=\"text-align: right;\">\n",
       "      <th></th>\n",
       "      <th>Customer Lifetime Value</th>\n",
       "      <th>Income</th>\n",
       "      <th>Monthly Premium Auto</th>\n",
       "      <th>Months Since Last Claim</th>\n",
       "      <th>Months Since Policy Inception</th>\n",
       "      <th>Number of Open Complaints</th>\n",
       "      <th>Number of Policies</th>\n",
       "      <th>State_California</th>\n",
       "      <th>State_Nevada</th>\n",
       "      <th>State_Oregon</th>\n",
       "      <th>...</th>\n",
       "      <th>Sales Channel_Branch</th>\n",
       "      <th>Sales Channel_Call Center</th>\n",
       "      <th>Sales Channel_Web</th>\n",
       "      <th>Vehicle Class_Luxury Car</th>\n",
       "      <th>Vehicle Class_Luxury SUV</th>\n",
       "      <th>Vehicle Class_SUV</th>\n",
       "      <th>Vehicle Class_Sports Car</th>\n",
       "      <th>Vehicle Class_Two-Door Car</th>\n",
       "      <th>Vehicle Size_Medsize</th>\n",
       "      <th>Vehicle Size_Small</th>\n",
       "    </tr>\n",
       "  </thead>\n",
       "  <tbody>\n",
       "    <tr>\n",
       "      <th>0</th>\n",
       "      <td>-0.762878</td>\n",
       "      <td>0.612827</td>\n",
       "      <td>-0.703925</td>\n",
       "      <td>1.678099</td>\n",
       "      <td>-1.543287</td>\n",
       "      <td>-0.422250</td>\n",
       "      <td>-0.822648</td>\n",
       "      <td>0.0</td>\n",
       "      <td>0.0</td>\n",
       "      <td>0.0</td>\n",
       "      <td>...</td>\n",
       "      <td>0.0</td>\n",
       "      <td>0.0</td>\n",
       "      <td>0.0</td>\n",
       "      <td>0.0</td>\n",
       "      <td>0.0</td>\n",
       "      <td>0.0</td>\n",
       "      <td>0.0</td>\n",
       "      <td>1.0</td>\n",
       "      <td>1.0</td>\n",
       "      <td>0.0</td>\n",
       "    </tr>\n",
       "    <tr>\n",
       "      <th>1</th>\n",
       "      <td>-0.149245</td>\n",
       "      <td>-1.239617</td>\n",
       "      <td>0.022691</td>\n",
       "      <td>-0.208186</td>\n",
       "      <td>-0.217334</td>\n",
       "      <td>-0.422250</td>\n",
       "      <td>2.106160</td>\n",
       "      <td>0.0</td>\n",
       "      <td>0.0</td>\n",
       "      <td>0.0</td>\n",
       "      <td>...</td>\n",
       "      <td>0.0</td>\n",
       "      <td>0.0</td>\n",
       "      <td>0.0</td>\n",
       "      <td>0.0</td>\n",
       "      <td>0.0</td>\n",
       "      <td>0.0</td>\n",
       "      <td>0.0</td>\n",
       "      <td>0.0</td>\n",
       "      <td>1.0</td>\n",
       "      <td>0.0</td>\n",
       "    </tr>\n",
       "    <tr>\n",
       "      <th>2</th>\n",
       "      <td>0.710636</td>\n",
       "      <td>0.365710</td>\n",
       "      <td>0.429596</td>\n",
       "      <td>0.288205</td>\n",
       "      <td>-0.360680</td>\n",
       "      <td>-0.422250</td>\n",
       "      <td>-0.404247</td>\n",
       "      <td>0.0</td>\n",
       "      <td>1.0</td>\n",
       "      <td>0.0</td>\n",
       "      <td>...</td>\n",
       "      <td>0.0</td>\n",
       "      <td>0.0</td>\n",
       "      <td>0.0</td>\n",
       "      <td>0.0</td>\n",
       "      <td>0.0</td>\n",
       "      <td>0.0</td>\n",
       "      <td>0.0</td>\n",
       "      <td>1.0</td>\n",
       "      <td>1.0</td>\n",
       "      <td>0.0</td>\n",
       "    </tr>\n",
       "    <tr>\n",
       "      <th>3</th>\n",
       "      <td>-0.052263</td>\n",
       "      <td>-1.239617</td>\n",
       "      <td>0.371467</td>\n",
       "      <td>0.288205</td>\n",
       "      <td>0.606907</td>\n",
       "      <td>-0.422250</td>\n",
       "      <td>1.687759</td>\n",
       "      <td>1.0</td>\n",
       "      <td>0.0</td>\n",
       "      <td>0.0</td>\n",
       "      <td>...</td>\n",
       "      <td>0.0</td>\n",
       "      <td>1.0</td>\n",
       "      <td>0.0</td>\n",
       "      <td>0.0</td>\n",
       "      <td>0.0</td>\n",
       "      <td>1.0</td>\n",
       "      <td>0.0</td>\n",
       "      <td>0.0</td>\n",
       "      <td>1.0</td>\n",
       "      <td>0.0</td>\n",
       "    </tr>\n",
       "    <tr>\n",
       "      <th>4</th>\n",
       "      <td>-0.755575</td>\n",
       "      <td>0.203390</td>\n",
       "      <td>-0.587666</td>\n",
       "      <td>-0.307465</td>\n",
       "      <td>-0.145661</td>\n",
       "      <td>-0.422250</td>\n",
       "      <td>-0.822648</td>\n",
       "      <td>0.0</td>\n",
       "      <td>0.0</td>\n",
       "      <td>0.0</td>\n",
       "      <td>...</td>\n",
       "      <td>0.0</td>\n",
       "      <td>0.0</td>\n",
       "      <td>0.0</td>\n",
       "      <td>0.0</td>\n",
       "      <td>0.0</td>\n",
       "      <td>0.0</td>\n",
       "      <td>0.0</td>\n",
       "      <td>0.0</td>\n",
       "      <td>1.0</td>\n",
       "      <td>0.0</td>\n",
       "    </tr>\n",
       "    <tr>\n",
       "      <th>...</th>\n",
       "      <td>...</td>\n",
       "      <td>...</td>\n",
       "      <td>...</td>\n",
       "      <td>...</td>\n",
       "      <td>...</td>\n",
       "      <td>...</td>\n",
       "      <td>...</td>\n",
       "      <td>...</td>\n",
       "      <td>...</td>\n",
       "      <td>...</td>\n",
       "      <td>...</td>\n",
       "      <td>...</td>\n",
       "      <td>...</td>\n",
       "      <td>...</td>\n",
       "      <td>...</td>\n",
       "      <td>...</td>\n",
       "      <td>...</td>\n",
       "      <td>...</td>\n",
       "      <td>...</td>\n",
       "      <td>...</td>\n",
       "      <td>...</td>\n",
       "    </tr>\n",
       "    <tr>\n",
       "      <th>9129</th>\n",
       "      <td>2.241590</td>\n",
       "      <td>1.128558</td>\n",
       "      <td>-0.587666</td>\n",
       "      <td>0.288205</td>\n",
       "      <td>1.466984</td>\n",
       "      <td>-0.422250</td>\n",
       "      <td>-0.404247</td>\n",
       "      <td>1.0</td>\n",
       "      <td>0.0</td>\n",
       "      <td>0.0</td>\n",
       "      <td>...</td>\n",
       "      <td>0.0</td>\n",
       "      <td>0.0</td>\n",
       "      <td>1.0</td>\n",
       "      <td>0.0</td>\n",
       "      <td>0.0</td>\n",
       "      <td>0.0</td>\n",
       "      <td>0.0</td>\n",
       "      <td>0.0</td>\n",
       "      <td>1.0</td>\n",
       "      <td>0.0</td>\n",
       "    </tr>\n",
       "    <tr>\n",
       "      <th>9130</th>\n",
       "      <td>-0.714411</td>\n",
       "      <td>-0.528450</td>\n",
       "      <td>-0.413278</td>\n",
       "      <td>-0.108908</td>\n",
       "      <td>-0.719046</td>\n",
       "      <td>-0.422250</td>\n",
       "      <td>-0.822648</td>\n",
       "      <td>1.0</td>\n",
       "      <td>0.0</td>\n",
       "      <td>0.0</td>\n",
       "      <td>...</td>\n",
       "      <td>1.0</td>\n",
       "      <td>0.0</td>\n",
       "      <td>0.0</td>\n",
       "      <td>0.0</td>\n",
       "      <td>0.0</td>\n",
       "      <td>0.0</td>\n",
       "      <td>0.0</td>\n",
       "      <td>0.0</td>\n",
       "      <td>1.0</td>\n",
       "      <td>0.0</td>\n",
       "    </tr>\n",
       "    <tr>\n",
       "      <th>9131</th>\n",
       "      <td>0.023135</td>\n",
       "      <td>-1.239617</td>\n",
       "      <td>-0.238891</td>\n",
       "      <td>-0.605299</td>\n",
       "      <td>-0.396517</td>\n",
       "      <td>2.873245</td>\n",
       "      <td>-0.404247</td>\n",
       "      <td>1.0</td>\n",
       "      <td>0.0</td>\n",
       "      <td>0.0</td>\n",
       "      <td>...</td>\n",
       "      <td>1.0</td>\n",
       "      <td>0.0</td>\n",
       "      <td>0.0</td>\n",
       "      <td>0.0</td>\n",
       "      <td>0.0</td>\n",
       "      <td>0.0</td>\n",
       "      <td>0.0</td>\n",
       "      <td>0.0</td>\n",
       "      <td>1.0</td>\n",
       "      <td>0.0</td>\n",
       "    </tr>\n",
       "    <tr>\n",
       "      <th>9132</th>\n",
       "      <td>-0.069935</td>\n",
       "      <td>-0.517356</td>\n",
       "      <td>0.080820</td>\n",
       "      <td>1.876656</td>\n",
       "      <td>-1.614960</td>\n",
       "      <td>-0.422250</td>\n",
       "      <td>0.014154</td>\n",
       "      <td>1.0</td>\n",
       "      <td>0.0</td>\n",
       "      <td>0.0</td>\n",
       "      <td>...</td>\n",
       "      <td>1.0</td>\n",
       "      <td>0.0</td>\n",
       "      <td>0.0</td>\n",
       "      <td>0.0</td>\n",
       "      <td>0.0</td>\n",
       "      <td>0.0</td>\n",
       "      <td>0.0</td>\n",
       "      <td>0.0</td>\n",
       "      <td>0.0</td>\n",
       "      <td>0.0</td>\n",
       "    </tr>\n",
       "    <tr>\n",
       "      <th>9133</th>\n",
       "      <td>-0.784955</td>\n",
       "      <td>-1.239617</td>\n",
       "      <td>-0.471408</td>\n",
       "      <td>-1.200968</td>\n",
       "      <td>1.502821</td>\n",
       "      <td>-0.422250</td>\n",
       "      <td>-0.822648</td>\n",
       "      <td>1.0</td>\n",
       "      <td>0.0</td>\n",
       "      <td>0.0</td>\n",
       "      <td>...</td>\n",
       "      <td>0.0</td>\n",
       "      <td>1.0</td>\n",
       "      <td>0.0</td>\n",
       "      <td>0.0</td>\n",
       "      <td>0.0</td>\n",
       "      <td>0.0</td>\n",
       "      <td>0.0</td>\n",
       "      <td>1.0</td>\n",
       "      <td>1.0</td>\n",
       "      <td>0.0</td>\n",
       "    </tr>\n",
       "  </tbody>\n",
       "</table>\n",
       "<p>9134 rows × 50 columns</p>\n",
       "</div>"
      ],
      "text/plain": [
       "      Customer Lifetime Value    Income  Monthly Premium Auto  \\\n",
       "0                   -0.762878  0.612827             -0.703925   \n",
       "1                   -0.149245 -1.239617              0.022691   \n",
       "2                    0.710636  0.365710              0.429596   \n",
       "3                   -0.052263 -1.239617              0.371467   \n",
       "4                   -0.755575  0.203390             -0.587666   \n",
       "...                       ...       ...                   ...   \n",
       "9129                 2.241590  1.128558             -0.587666   \n",
       "9130                -0.714411 -0.528450             -0.413278   \n",
       "9131                 0.023135 -1.239617             -0.238891   \n",
       "9132                -0.069935 -0.517356              0.080820   \n",
       "9133                -0.784955 -1.239617             -0.471408   \n",
       "\n",
       "      Months Since Last Claim  Months Since Policy Inception  \\\n",
       "0                    1.678099                      -1.543287   \n",
       "1                   -0.208186                      -0.217334   \n",
       "2                    0.288205                      -0.360680   \n",
       "3                    0.288205                       0.606907   \n",
       "4                   -0.307465                      -0.145661   \n",
       "...                       ...                            ...   \n",
       "9129                 0.288205                       1.466984   \n",
       "9130                -0.108908                      -0.719046   \n",
       "9131                -0.605299                      -0.396517   \n",
       "9132                 1.876656                      -1.614960   \n",
       "9133                -1.200968                       1.502821   \n",
       "\n",
       "      Number of Open Complaints  Number of Policies  State_California  \\\n",
       "0                     -0.422250           -0.822648               0.0   \n",
       "1                     -0.422250            2.106160               0.0   \n",
       "2                     -0.422250           -0.404247               0.0   \n",
       "3                     -0.422250            1.687759               1.0   \n",
       "4                     -0.422250           -0.822648               0.0   \n",
       "...                         ...                 ...               ...   \n",
       "9129                  -0.422250           -0.404247               1.0   \n",
       "9130                  -0.422250           -0.822648               1.0   \n",
       "9131                   2.873245           -0.404247               1.0   \n",
       "9132                  -0.422250            0.014154               1.0   \n",
       "9133                  -0.422250           -0.822648               1.0   \n",
       "\n",
       "      State_Nevada  State_Oregon  ...  Sales Channel_Branch  \\\n",
       "0              0.0           0.0  ...                   0.0   \n",
       "1              0.0           0.0  ...                   0.0   \n",
       "2              1.0           0.0  ...                   0.0   \n",
       "3              0.0           0.0  ...                   0.0   \n",
       "4              0.0           0.0  ...                   0.0   \n",
       "...            ...           ...  ...                   ...   \n",
       "9129           0.0           0.0  ...                   0.0   \n",
       "9130           0.0           0.0  ...                   1.0   \n",
       "9131           0.0           0.0  ...                   1.0   \n",
       "9132           0.0           0.0  ...                   1.0   \n",
       "9133           0.0           0.0  ...                   0.0   \n",
       "\n",
       "      Sales Channel_Call Center  Sales Channel_Web  Vehicle Class_Luxury Car  \\\n",
       "0                           0.0                0.0                       0.0   \n",
       "1                           0.0                0.0                       0.0   \n",
       "2                           0.0                0.0                       0.0   \n",
       "3                           1.0                0.0                       0.0   \n",
       "4                           0.0                0.0                       0.0   \n",
       "...                         ...                ...                       ...   \n",
       "9129                        0.0                1.0                       0.0   \n",
       "9130                        0.0                0.0                       0.0   \n",
       "9131                        0.0                0.0                       0.0   \n",
       "9132                        0.0                0.0                       0.0   \n",
       "9133                        1.0                0.0                       0.0   \n",
       "\n",
       "      Vehicle Class_Luxury SUV  Vehicle Class_SUV  Vehicle Class_Sports Car  \\\n",
       "0                          0.0                0.0                       0.0   \n",
       "1                          0.0                0.0                       0.0   \n",
       "2                          0.0                0.0                       0.0   \n",
       "3                          0.0                1.0                       0.0   \n",
       "4                          0.0                0.0                       0.0   \n",
       "...                        ...                ...                       ...   \n",
       "9129                       0.0                0.0                       0.0   \n",
       "9130                       0.0                0.0                       0.0   \n",
       "9131                       0.0                0.0                       0.0   \n",
       "9132                       0.0                0.0                       0.0   \n",
       "9133                       0.0                0.0                       0.0   \n",
       "\n",
       "      Vehicle Class_Two-Door Car  Vehicle Size_Medsize  Vehicle Size_Small  \n",
       "0                            1.0                   1.0                 0.0  \n",
       "1                            0.0                   1.0                 0.0  \n",
       "2                            1.0                   1.0                 0.0  \n",
       "3                            0.0                   1.0                 0.0  \n",
       "4                            0.0                   1.0                 0.0  \n",
       "...                          ...                   ...                 ...  \n",
       "9129                         0.0                   1.0                 0.0  \n",
       "9130                         0.0                   1.0                 0.0  \n",
       "9131                         0.0                   1.0                 0.0  \n",
       "9132                         0.0                   0.0                 0.0  \n",
       "9133                         1.0                   1.0                 0.0  \n",
       "\n",
       "[9134 rows x 50 columns]"
      ]
     },
     "execution_count": 35,
     "metadata": {},
     "output_type": "execute_result"
    }
   ],
   "source": [
    "customer2 = pd.concat([cus_std, cus_encoded], axis=1)\n",
    "customer2"
   ]
  },
  {
   "cell_type": "code",
   "execution_count": 36,
   "id": "1d397659",
   "metadata": {},
   "outputs": [
    {
     "data": {
      "text/plain": [
       "0.7696157777287332"
      ]
     },
     "execution_count": 36,
     "metadata": {},
     "output_type": "execute_result"
    }
   ],
   "source": [
    "y = customer['Total Claim Amount']\n",
    "X = customer2\n",
    "\n",
    "X_train, X_test, y_train, y_test = train_test_split(X, y, test_size=0.1)\n",
    "\n",
    "lm = linear_model.LinearRegression()\n",
    "lm.fit(X_train,y_train)\n",
    "\n",
    "predictions = lm.predict(X_train)\n",
    "r2_score(y_train, predictions)"
   ]
  },
  {
   "cell_type": "markdown",
   "id": "d068efb1",
   "metadata": {},
   "source": [
    "### 2. Dropping Outliers and MinMax"
   ]
  },
  {
   "cell_type": "code",
   "execution_count": 37,
   "id": "3a83d8fb",
   "metadata": {
    "scrolled": false
   },
   "outputs": [],
   "source": [
    "# Reset\n",
    "\n",
    "customer = pd.read_csv('marketing_customer_analysis.csv')\n",
    "\n",
    "# Drop Outliers\n",
    "\n",
    "customer_out = customer[customer['Total Claim Amount']<2300].copy()"
   ]
  },
  {
   "cell_type": "code",
   "execution_count": 38,
   "id": "259778ac",
   "metadata": {},
   "outputs": [],
   "source": [
    "# Reset\n",
    "\n",
    "y = customer_out['Total Claim Amount']\n",
    "X = customer_out.drop(['Total Claim Amount'], axis=1)\n",
    "\n",
    "# Normalised\n",
    "\n",
    "cus_num = X.select_dtypes(include = np.number)\n",
    "cus_cat = X.select_dtypes(include = object)\n",
    "\n",
    "cus_tra = MinMaxScaler().fit(cus_num)\n",
    "cus_nor = cus_tra.transform(cus_num)\n",
    "\n",
    "cus_nor = pd.DataFrame(cus_nor, columns = cus_num.columns)\n",
    "\n",
    "# One Hot\n",
    "\n",
    "cus_one = cus_cat.drop(['Customer', 'Effective To Date'], axis=1)\n",
    "\n",
    "cus_encoder = OneHotEncoder(drop='first').fit(cus_one)\n",
    "cus_encoded = cus_encoder.transform(cus_one).toarray()\n",
    "\n",
    "cus_encoded = pd.DataFrame(cus_encoded, columns=cus_encoder.get_feature_names_out())"
   ]
  },
  {
   "cell_type": "code",
   "execution_count": 39,
   "id": "c65b93bc",
   "metadata": {},
   "outputs": [],
   "source": [
    "customer2 = pd.concat([cus_nor, cus_encoded], axis=1)"
   ]
  },
  {
   "cell_type": "code",
   "execution_count": 40,
   "id": "d873981f",
   "metadata": {},
   "outputs": [
    {
     "data": {
      "text/plain": [
       "0.7764119621172081"
      ]
     },
     "execution_count": 40,
     "metadata": {},
     "output_type": "execute_result"
    }
   ],
   "source": [
    "y = customer_out['Total Claim Amount']\n",
    "X = customer2\n",
    "\n",
    "\n",
    "X_train, X_test, y_train, y_test = train_test_split(X, y, test_size=0.1)\n",
    "\n",
    "lm = linear_model.LinearRegression()\n",
    "lm.fit(X_train,y_train)\n",
    "\n",
    "predictions = lm.predict(X_train)\n",
    "r2_score(y_train, predictions)"
   ]
  },
  {
   "cell_type": "markdown",
   "id": "e806b637",
   "metadata": {},
   "source": [
    "### 3. Dropping Outliers and StandardScaler"
   ]
  },
  {
   "cell_type": "code",
   "execution_count": 41,
   "id": "87405f38",
   "metadata": {},
   "outputs": [
    {
     "data": {
      "text/plain": [
       "0.776989194816382"
      ]
     },
     "execution_count": 41,
     "metadata": {},
     "output_type": "execute_result"
    }
   ],
   "source": [
    "# Reset\n",
    "\n",
    "customer = pd.read_csv('marketing_customer_analysis.csv')\n",
    "\n",
    "# Drop Outliers\n",
    "\n",
    "customer_out = customer[customer['Total Claim Amount']<2300].copy()\n",
    "\n",
    "# Reset\n",
    "\n",
    "y = customer_out['Total Claim Amount']\n",
    "X = customer_out.drop(['Total Claim Amount'], axis=1)\n",
    "\n",
    "# StandardScaler\n",
    "\n",
    "cus_num = X.select_dtypes(include = np.number)\n",
    "cus_cat = X.select_dtypes(include = object)\n",
    "\n",
    "\n",
    "cus_tra = StandardScaler().fit(cus_num)\n",
    "cus_std = cus_tra.transform(cus_num)\n",
    "\n",
    "cus_std = pd.DataFrame(cus_std,columns = cus_num.columns)\n",
    "\n",
    "\n",
    "# One Hot\n",
    "\n",
    "cus_one = cus_cat.drop(['Customer', 'Effective To Date'], axis=1)\n",
    "\n",
    "cus_encoder = OneHotEncoder(drop='first').fit(cus_one)\n",
    "cus_encoded = cus_encoder.transform(cus_one).toarray()\n",
    "\n",
    "cus_encoded = pd.DataFrame(cus_encoded, columns=cus_encoder.get_feature_names_out())\n",
    "\n",
    "# Concatenate\n",
    "\n",
    "customer2 = pd.concat([cus_std, cus_encoded], axis=1)\n",
    "\n",
    "# Train Test\n",
    "\n",
    "y = customer_out['Total Claim Amount']\n",
    "X = customer2\n",
    "\n",
    "X_train, X_test, y_train, y_test = train_test_split(X, y, test_size=0.1)\n",
    "\n",
    "lm = linear_model.LinearRegression()\n",
    "lm.fit(X_train,y_train)\n",
    "\n",
    "predictions = lm.predict(X_train)\n",
    "r2_score(y_train, predictions)"
   ]
  },
  {
   "cell_type": "markdown",
   "id": "f3d8f0b1",
   "metadata": {},
   "source": [
    "So the best model is when it's been normalized with MinMax and Outliers dropped. I have dropped very few outliers because I consider they give valuable information and I didn't want to lose it."
   ]
  }
 ],
 "metadata": {
  "kernelspec": {
   "display_name": "Python 3 (ipykernel)",
   "language": "python",
   "name": "python3"
  },
  "language_info": {
   "codemirror_mode": {
    "name": "ipython",
    "version": 3
   },
   "file_extension": ".py",
   "mimetype": "text/x-python",
   "name": "python",
   "nbconvert_exporter": "python",
   "pygments_lexer": "ipython3",
   "version": "3.10.9"
  }
 },
 "nbformat": 4,
 "nbformat_minor": 5
}
